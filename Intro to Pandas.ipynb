{
 "cells": [
  {
   "cell_type": "code",
   "execution_count": 6,
   "id": "3c17aec8",
   "metadata": {},
   "outputs": [],
   "source": [
    "import pandas as pd\n",
    "import numpy as np\n",
    "import matplotlib.pyplot as plt"
   ]
  },
  {
   "cell_type": "code",
   "execution_count": 7,
   "id": "23976524",
   "metadata": {},
   "outputs": [],
   "source": [
    "car_dataset = {\n",
    "    'Cars' : ['Tesla','BMW','Hyundal'],\n",
    "    'Model': ['Model S','i3','IONIQ 5'],\n",
    "    'Range': [391,335,369],\n",
    "    'Acceleration':[3.7,3.3,4.5]\n",
    "}\n",
    "\n",
    "car_data = pd.DataFrame(car_dataset)"
   ]
  },
  {
   "cell_type": "code",
   "execution_count": 8,
   "id": "f2aed62c",
   "metadata": {},
   "outputs": [
    {
     "data": {
      "text/html": [
       "<div>\n",
       "<style scoped>\n",
       "    .dataframe tbody tr th:only-of-type {\n",
       "        vertical-align: middle;\n",
       "    }\n",
       "\n",
       "    .dataframe tbody tr th {\n",
       "        vertical-align: top;\n",
       "    }\n",
       "\n",
       "    .dataframe thead th {\n",
       "        text-align: right;\n",
       "    }\n",
       "</style>\n",
       "<table border=\"1\" class=\"dataframe\">\n",
       "  <thead>\n",
       "    <tr style=\"text-align: right;\">\n",
       "      <th></th>\n",
       "      <th>Cars</th>\n",
       "      <th>Model</th>\n",
       "      <th>Range</th>\n",
       "      <th>Acceleration</th>\n",
       "    </tr>\n",
       "  </thead>\n",
       "  <tbody>\n",
       "    <tr>\n",
       "      <th>0</th>\n",
       "      <td>Tesla</td>\n",
       "      <td>Model S</td>\n",
       "      <td>391</td>\n",
       "      <td>3.7</td>\n",
       "    </tr>\n",
       "    <tr>\n",
       "      <th>1</th>\n",
       "      <td>BMW</td>\n",
       "      <td>i3</td>\n",
       "      <td>335</td>\n",
       "      <td>3.3</td>\n",
       "    </tr>\n",
       "    <tr>\n",
       "      <th>2</th>\n",
       "      <td>Hyundal</td>\n",
       "      <td>IONIQ 5</td>\n",
       "      <td>369</td>\n",
       "      <td>4.5</td>\n",
       "    </tr>\n",
       "  </tbody>\n",
       "</table>\n",
       "</div>"
      ],
      "text/plain": [
       "      Cars    Model  Range  Acceleration\n",
       "0    Tesla  Model S    391           3.7\n",
       "1      BMW       i3    335           3.3\n",
       "2  Hyundal  IONIQ 5    369           4.5"
      ]
     },
     "execution_count": 8,
     "metadata": {},
     "output_type": "execute_result"
    }
   ],
   "source": [
    "car_data"
   ]
  },
  {
   "cell_type": "code",
   "execution_count": 9,
   "id": "5f83e471",
   "metadata": {},
   "outputs": [
    {
     "data": {
      "text/plain": [
       "pandas.core.frame.DataFrame"
      ]
     },
     "execution_count": 9,
     "metadata": {},
     "output_type": "execute_result"
    }
   ],
   "source": [
    "type(car_data)"
   ]
  },
  {
   "cell_type": "code",
   "execution_count": 10,
   "id": "b6b1121b",
   "metadata": {},
   "outputs": [
    {
     "data": {
      "text/plain": [
       "0      Tesla\n",
       "1        BMW\n",
       "2    Hyundal\n",
       "Name: Cars, dtype: object"
      ]
     },
     "execution_count": 10,
     "metadata": {},
     "output_type": "execute_result"
    }
   ],
   "source": [
    "car_data['Cars']"
   ]
  },
  {
   "cell_type": "code",
   "execution_count": 11,
   "id": "69404bf1",
   "metadata": {},
   "outputs": [
    {
     "data": {
      "text/plain": [
       "pandas.core.series.Series"
      ]
     },
     "execution_count": 11,
     "metadata": {},
     "output_type": "execute_result"
    }
   ],
   "source": [
    "type(car_data['Cars'])"
   ]
  },
  {
   "cell_type": "code",
   "execution_count": 12,
   "id": "7b6a5f7d",
   "metadata": {},
   "outputs": [
    {
     "data": {
      "text/html": [
       "<div>\n",
       "<style scoped>\n",
       "    .dataframe tbody tr th:only-of-type {\n",
       "        vertical-align: middle;\n",
       "    }\n",
       "\n",
       "    .dataframe tbody tr th {\n",
       "        vertical-align: top;\n",
       "    }\n",
       "\n",
       "    .dataframe thead th {\n",
       "        text-align: right;\n",
       "    }\n",
       "</style>\n",
       "<table border=\"1\" class=\"dataframe\">\n",
       "  <thead>\n",
       "    <tr style=\"text-align: right;\">\n",
       "      <th></th>\n",
       "      <th>Cars</th>\n",
       "      <th>Model</th>\n",
       "    </tr>\n",
       "  </thead>\n",
       "  <tbody>\n",
       "    <tr>\n",
       "      <th>0</th>\n",
       "      <td>Tesla</td>\n",
       "      <td>Model S</td>\n",
       "    </tr>\n",
       "    <tr>\n",
       "      <th>1</th>\n",
       "      <td>BMW</td>\n",
       "      <td>i3</td>\n",
       "    </tr>\n",
       "    <tr>\n",
       "      <th>2</th>\n",
       "      <td>Hyundal</td>\n",
       "      <td>IONIQ 5</td>\n",
       "    </tr>\n",
       "  </tbody>\n",
       "</table>\n",
       "</div>"
      ],
      "text/plain": [
       "      Cars    Model\n",
       "0    Tesla  Model S\n",
       "1      BMW       i3\n",
       "2  Hyundal  IONIQ 5"
      ]
     },
     "execution_count": 12,
     "metadata": {},
     "output_type": "execute_result"
    }
   ],
   "source": [
    "car_data[['Cars','Model']]"
   ]
  },
  {
   "cell_type": "code",
   "execution_count": 13,
   "id": "8317601a",
   "metadata": {},
   "outputs": [],
   "source": [
    "car_data['Booster'] = np.array([.4,.6,.3])"
   ]
  },
  {
   "cell_type": "code",
   "execution_count": 14,
   "id": "5fc86b43",
   "metadata": {},
   "outputs": [
    {
     "data": {
      "text/html": [
       "<div>\n",
       "<style scoped>\n",
       "    .dataframe tbody tr th:only-of-type {\n",
       "        vertical-align: middle;\n",
       "    }\n",
       "\n",
       "    .dataframe tbody tr th {\n",
       "        vertical-align: top;\n",
       "    }\n",
       "\n",
       "    .dataframe thead th {\n",
       "        text-align: right;\n",
       "    }\n",
       "</style>\n",
       "<table border=\"1\" class=\"dataframe\">\n",
       "  <thead>\n",
       "    <tr style=\"text-align: right;\">\n",
       "      <th></th>\n",
       "      <th>Cars</th>\n",
       "      <th>Model</th>\n",
       "      <th>Range</th>\n",
       "      <th>Acceleration</th>\n",
       "      <th>Booster</th>\n",
       "    </tr>\n",
       "  </thead>\n",
       "  <tbody>\n",
       "    <tr>\n",
       "      <th>0</th>\n",
       "      <td>Tesla</td>\n",
       "      <td>Model S</td>\n",
       "      <td>391</td>\n",
       "      <td>3.7</td>\n",
       "      <td>0.4</td>\n",
       "    </tr>\n",
       "    <tr>\n",
       "      <th>1</th>\n",
       "      <td>BMW</td>\n",
       "      <td>i3</td>\n",
       "      <td>335</td>\n",
       "      <td>3.3</td>\n",
       "      <td>0.6</td>\n",
       "    </tr>\n",
       "    <tr>\n",
       "      <th>2</th>\n",
       "      <td>Hyundal</td>\n",
       "      <td>IONIQ 5</td>\n",
       "      <td>369</td>\n",
       "      <td>4.5</td>\n",
       "      <td>0.3</td>\n",
       "    </tr>\n",
       "  </tbody>\n",
       "</table>\n",
       "</div>"
      ],
      "text/plain": [
       "      Cars    Model  Range  Acceleration  Booster\n",
       "0    Tesla  Model S    391           3.7      0.4\n",
       "1      BMW       i3    335           3.3      0.6\n",
       "2  Hyundal  IONIQ 5    369           4.5      0.3"
      ]
     },
     "execution_count": 14,
     "metadata": {},
     "output_type": "execute_result"
    }
   ],
   "source": [
    "car_data"
   ]
  },
  {
   "cell_type": "code",
   "execution_count": 15,
   "id": "0e44c024",
   "metadata": {},
   "outputs": [],
   "source": [
    "car_data['Boosted_Acceleration'] = car_data['Acceleration'] * car_data['Booster']"
   ]
  },
  {
   "cell_type": "code",
   "execution_count": 16,
   "id": "7133aad3",
   "metadata": {},
   "outputs": [
    {
     "data": {
      "text/html": [
       "<div>\n",
       "<style scoped>\n",
       "    .dataframe tbody tr th:only-of-type {\n",
       "        vertical-align: middle;\n",
       "    }\n",
       "\n",
       "    .dataframe tbody tr th {\n",
       "        vertical-align: top;\n",
       "    }\n",
       "\n",
       "    .dataframe thead th {\n",
       "        text-align: right;\n",
       "    }\n",
       "</style>\n",
       "<table border=\"1\" class=\"dataframe\">\n",
       "  <thead>\n",
       "    <tr style=\"text-align: right;\">\n",
       "      <th></th>\n",
       "      <th>Cars</th>\n",
       "      <th>Model</th>\n",
       "      <th>Range</th>\n",
       "      <th>Acceleration</th>\n",
       "      <th>Booster</th>\n",
       "      <th>Boosted_Acceleration</th>\n",
       "    </tr>\n",
       "  </thead>\n",
       "  <tbody>\n",
       "    <tr>\n",
       "      <th>0</th>\n",
       "      <td>Tesla</td>\n",
       "      <td>Model S</td>\n",
       "      <td>391</td>\n",
       "      <td>3.7</td>\n",
       "      <td>0.4</td>\n",
       "      <td>1.48</td>\n",
       "    </tr>\n",
       "    <tr>\n",
       "      <th>1</th>\n",
       "      <td>BMW</td>\n",
       "      <td>i3</td>\n",
       "      <td>335</td>\n",
       "      <td>3.3</td>\n",
       "      <td>0.6</td>\n",
       "      <td>1.98</td>\n",
       "    </tr>\n",
       "    <tr>\n",
       "      <th>2</th>\n",
       "      <td>Hyundal</td>\n",
       "      <td>IONIQ 5</td>\n",
       "      <td>369</td>\n",
       "      <td>4.5</td>\n",
       "      <td>0.3</td>\n",
       "      <td>1.35</td>\n",
       "    </tr>\n",
       "  </tbody>\n",
       "</table>\n",
       "</div>"
      ],
      "text/plain": [
       "      Cars    Model  Range  Acceleration  Booster  Boosted_Acceleration\n",
       "0    Tesla  Model S    391           3.7      0.4                  1.48\n",
       "1      BMW       i3    335           3.3      0.6                  1.98\n",
       "2  Hyundal  IONIQ 5    369           4.5      0.3                  1.35"
      ]
     },
     "execution_count": 16,
     "metadata": {},
     "output_type": "execute_result"
    }
   ],
   "source": [
    "car_data"
   ]
  },
  {
   "cell_type": "code",
   "execution_count": 17,
   "id": "653f7981",
   "metadata": {},
   "outputs": [],
   "source": [
    "car_data.drop(columns=['Boosted_Acceleration'], inplace=True)"
   ]
  },
  {
   "cell_type": "code",
   "execution_count": 18,
   "id": "6c001846",
   "metadata": {},
   "outputs": [
    {
     "data": {
      "text/html": [
       "<div>\n",
       "<style scoped>\n",
       "    .dataframe tbody tr th:only-of-type {\n",
       "        vertical-align: middle;\n",
       "    }\n",
       "\n",
       "    .dataframe tbody tr th {\n",
       "        vertical-align: top;\n",
       "    }\n",
       "\n",
       "    .dataframe thead th {\n",
       "        text-align: right;\n",
       "    }\n",
       "</style>\n",
       "<table border=\"1\" class=\"dataframe\">\n",
       "  <thead>\n",
       "    <tr style=\"text-align: right;\">\n",
       "      <th></th>\n",
       "      <th>Cars</th>\n",
       "      <th>Model</th>\n",
       "      <th>Range</th>\n",
       "      <th>Acceleration</th>\n",
       "      <th>Booster</th>\n",
       "    </tr>\n",
       "  </thead>\n",
       "  <tbody>\n",
       "    <tr>\n",
       "      <th>0</th>\n",
       "      <td>Tesla</td>\n",
       "      <td>Model S</td>\n",
       "      <td>391</td>\n",
       "      <td>3.7</td>\n",
       "      <td>0.4</td>\n",
       "    </tr>\n",
       "    <tr>\n",
       "      <th>1</th>\n",
       "      <td>BMW</td>\n",
       "      <td>i3</td>\n",
       "      <td>335</td>\n",
       "      <td>3.3</td>\n",
       "      <td>0.6</td>\n",
       "    </tr>\n",
       "    <tr>\n",
       "      <th>2</th>\n",
       "      <td>Hyundal</td>\n",
       "      <td>IONIQ 5</td>\n",
       "      <td>369</td>\n",
       "      <td>4.5</td>\n",
       "      <td>0.3</td>\n",
       "    </tr>\n",
       "  </tbody>\n",
       "</table>\n",
       "</div>"
      ],
      "text/plain": [
       "      Cars    Model  Range  Acceleration  Booster\n",
       "0    Tesla  Model S    391           3.7      0.4\n",
       "1      BMW       i3    335           3.3      0.6\n",
       "2  Hyundal  IONIQ 5    369           4.5      0.3"
      ]
     },
     "execution_count": 18,
     "metadata": {},
     "output_type": "execute_result"
    }
   ],
   "source": [
    "car_data"
   ]
  },
  {
   "cell_type": "code",
   "execution_count": 19,
   "id": "4b7ffe0a",
   "metadata": {},
   "outputs": [],
   "source": [
    "car_data.rename(columns={'Cars':'cars'}, inplace=True)"
   ]
  },
  {
   "cell_type": "code",
   "execution_count": 20,
   "id": "b704bc39",
   "metadata": {},
   "outputs": [
    {
     "data": {
      "text/html": [
       "<div>\n",
       "<style scoped>\n",
       "    .dataframe tbody tr th:only-of-type {\n",
       "        vertical-align: middle;\n",
       "    }\n",
       "\n",
       "    .dataframe tbody tr th {\n",
       "        vertical-align: top;\n",
       "    }\n",
       "\n",
       "    .dataframe thead th {\n",
       "        text-align: right;\n",
       "    }\n",
       "</style>\n",
       "<table border=\"1\" class=\"dataframe\">\n",
       "  <thead>\n",
       "    <tr style=\"text-align: right;\">\n",
       "      <th></th>\n",
       "      <th>cars</th>\n",
       "      <th>Model</th>\n",
       "      <th>Range</th>\n",
       "      <th>Acceleration</th>\n",
       "      <th>Booster</th>\n",
       "    </tr>\n",
       "  </thead>\n",
       "  <tbody>\n",
       "    <tr>\n",
       "      <th>0</th>\n",
       "      <td>Tesla</td>\n",
       "      <td>Model S</td>\n",
       "      <td>391</td>\n",
       "      <td>3.7</td>\n",
       "      <td>0.4</td>\n",
       "    </tr>\n",
       "    <tr>\n",
       "      <th>1</th>\n",
       "      <td>BMW</td>\n",
       "      <td>i3</td>\n",
       "      <td>335</td>\n",
       "      <td>3.3</td>\n",
       "      <td>0.6</td>\n",
       "    </tr>\n",
       "    <tr>\n",
       "      <th>2</th>\n",
       "      <td>Hyundal</td>\n",
       "      <td>IONIQ 5</td>\n",
       "      <td>369</td>\n",
       "      <td>4.5</td>\n",
       "      <td>0.3</td>\n",
       "    </tr>\n",
       "  </tbody>\n",
       "</table>\n",
       "</div>"
      ],
      "text/plain": [
       "      cars    Model  Range  Acceleration  Booster\n",
       "0    Tesla  Model S    391           3.7      0.4\n",
       "1      BMW       i3    335           3.3      0.6\n",
       "2  Hyundal  IONIQ 5    369           4.5      0.3"
      ]
     },
     "execution_count": 20,
     "metadata": {},
     "output_type": "execute_result"
    }
   ],
   "source": [
    "car_data"
   ]
  },
  {
   "cell_type": "code",
   "execution_count": 21,
   "id": "bed0da99",
   "metadata": {},
   "outputs": [],
   "source": [
    "car_data.columns = car_data.columns.str.lower()"
   ]
  },
  {
   "cell_type": "code",
   "execution_count": 22,
   "id": "dd0b5108",
   "metadata": {},
   "outputs": [
    {
     "data": {
      "text/html": [
       "<div>\n",
       "<style scoped>\n",
       "    .dataframe tbody tr th:only-of-type {\n",
       "        vertical-align: middle;\n",
       "    }\n",
       "\n",
       "    .dataframe tbody tr th {\n",
       "        vertical-align: top;\n",
       "    }\n",
       "\n",
       "    .dataframe thead th {\n",
       "        text-align: right;\n",
       "    }\n",
       "</style>\n",
       "<table border=\"1\" class=\"dataframe\">\n",
       "  <thead>\n",
       "    <tr style=\"text-align: right;\">\n",
       "      <th></th>\n",
       "      <th>cars</th>\n",
       "      <th>model</th>\n",
       "      <th>range</th>\n",
       "      <th>acceleration</th>\n",
       "      <th>booster</th>\n",
       "    </tr>\n",
       "  </thead>\n",
       "  <tbody>\n",
       "    <tr>\n",
       "      <th>0</th>\n",
       "      <td>Tesla</td>\n",
       "      <td>Model S</td>\n",
       "      <td>391</td>\n",
       "      <td>3.7</td>\n",
       "      <td>0.4</td>\n",
       "    </tr>\n",
       "    <tr>\n",
       "      <th>1</th>\n",
       "      <td>BMW</td>\n",
       "      <td>i3</td>\n",
       "      <td>335</td>\n",
       "      <td>3.3</td>\n",
       "      <td>0.6</td>\n",
       "    </tr>\n",
       "    <tr>\n",
       "      <th>2</th>\n",
       "      <td>Hyundal</td>\n",
       "      <td>IONIQ 5</td>\n",
       "      <td>369</td>\n",
       "      <td>4.5</td>\n",
       "      <td>0.3</td>\n",
       "    </tr>\n",
       "  </tbody>\n",
       "</table>\n",
       "</div>"
      ],
      "text/plain": [
       "      cars    model  range  acceleration  booster\n",
       "0    Tesla  Model S    391           3.7      0.4\n",
       "1      BMW       i3    335           3.3      0.6\n",
       "2  Hyundal  IONIQ 5    369           4.5      0.3"
      ]
     },
     "execution_count": 22,
     "metadata": {},
     "output_type": "execute_result"
    }
   ],
   "source": [
    "car_data"
   ]
  },
  {
   "cell_type": "markdown",
   "id": "ad7d1d84",
   "metadata": {},
   "source": [
    "# Loading Data from csv files"
   ]
  },
  {
   "cell_type": "code",
   "execution_count": 23,
   "id": "7e05e09e",
   "metadata": {},
   "outputs": [
    {
     "data": {
      "text/html": [
       "<div>\n",
       "<style scoped>\n",
       "    .dataframe tbody tr th:only-of-type {\n",
       "        vertical-align: middle;\n",
       "    }\n",
       "\n",
       "    .dataframe tbody tr th {\n",
       "        vertical-align: top;\n",
       "    }\n",
       "\n",
       "    .dataframe thead th {\n",
       "        text-align: right;\n",
       "    }\n",
       "</style>\n",
       "<table border=\"1\" class=\"dataframe\">\n",
       "  <thead>\n",
       "    <tr style=\"text-align: right;\">\n",
       "      <th></th>\n",
       "      <th>Rank</th>\n",
       "      <th>Country Name</th>\n",
       "      <th>Male Height in Cm</th>\n",
       "      <th>Female Height in Cm</th>\n",
       "      <th>Male Height in Ft</th>\n",
       "      <th>Female Height in Ft</th>\n",
       "    </tr>\n",
       "  </thead>\n",
       "  <tbody>\n",
       "    <tr>\n",
       "      <th>0</th>\n",
       "      <td>1</td>\n",
       "      <td>Netherlands</td>\n",
       "      <td>183.78</td>\n",
       "      <td>170.36</td>\n",
       "      <td>6.03</td>\n",
       "      <td>5.59</td>\n",
       "    </tr>\n",
       "    <tr>\n",
       "      <th>1</th>\n",
       "      <td>2</td>\n",
       "      <td>Montenegro</td>\n",
       "      <td>183.30</td>\n",
       "      <td>169.96</td>\n",
       "      <td>6.01</td>\n",
       "      <td>5.58</td>\n",
       "    </tr>\n",
       "    <tr>\n",
       "      <th>2</th>\n",
       "      <td>3</td>\n",
       "      <td>Estonia</td>\n",
       "      <td>182.79</td>\n",
       "      <td>168.66</td>\n",
       "      <td>6.00</td>\n",
       "      <td>5.53</td>\n",
       "    </tr>\n",
       "    <tr>\n",
       "      <th>3</th>\n",
       "      <td>4</td>\n",
       "      <td>Bosnia and Herzegovina</td>\n",
       "      <td>182.47</td>\n",
       "      <td>167.47</td>\n",
       "      <td>5.99</td>\n",
       "      <td>5.49</td>\n",
       "    </tr>\n",
       "    <tr>\n",
       "      <th>4</th>\n",
       "      <td>5</td>\n",
       "      <td>Iceland</td>\n",
       "      <td>182.10</td>\n",
       "      <td>168.91</td>\n",
       "      <td>5.97</td>\n",
       "      <td>5.54</td>\n",
       "    </tr>\n",
       "    <tr>\n",
       "      <th>...</th>\n",
       "      <td>...</td>\n",
       "      <td>...</td>\n",
       "      <td>...</td>\n",
       "      <td>...</td>\n",
       "      <td>...</td>\n",
       "      <td>...</td>\n",
       "    </tr>\n",
       "    <tr>\n",
       "      <th>194</th>\n",
       "      <td>195</td>\n",
       "      <td>Mozambique</td>\n",
       "      <td>164.30</td>\n",
       "      <td>155.42</td>\n",
       "      <td>5.39</td>\n",
       "      <td>5.10</td>\n",
       "    </tr>\n",
       "    <tr>\n",
       "      <th>195</th>\n",
       "      <td>196</td>\n",
       "      <td>Papua New Guinea</td>\n",
       "      <td>163.10</td>\n",
       "      <td>156.89</td>\n",
       "      <td>5.35</td>\n",
       "      <td>5.15</td>\n",
       "    </tr>\n",
       "    <tr>\n",
       "      <th>196</th>\n",
       "      <td>197</td>\n",
       "      <td>Solomon Islands</td>\n",
       "      <td>163.07</td>\n",
       "      <td>156.79</td>\n",
       "      <td>5.35</td>\n",
       "      <td>5.14</td>\n",
       "    </tr>\n",
       "    <tr>\n",
       "      <th>197</th>\n",
       "      <td>198</td>\n",
       "      <td>Laos</td>\n",
       "      <td>162.78</td>\n",
       "      <td>153.10</td>\n",
       "      <td>5.34</td>\n",
       "      <td>5.02</td>\n",
       "    </tr>\n",
       "    <tr>\n",
       "      <th>198</th>\n",
       "      <td>199</td>\n",
       "      <td>Timor-Leste</td>\n",
       "      <td>160.13</td>\n",
       "      <td>152.71</td>\n",
       "      <td>5.25</td>\n",
       "      <td>5.01</td>\n",
       "    </tr>\n",
       "  </tbody>\n",
       "</table>\n",
       "<p>199 rows × 6 columns</p>\n",
       "</div>"
      ],
      "text/plain": [
       "     Rank            Country Name  Male Height in Cm  Female Height in Cm  \\\n",
       "0       1             Netherlands             183.78               170.36   \n",
       "1       2              Montenegro             183.30               169.96   \n",
       "2       3                 Estonia             182.79               168.66   \n",
       "3       4  Bosnia and Herzegovina             182.47               167.47   \n",
       "4       5                 Iceland             182.10               168.91   \n",
       "..    ...                     ...                ...                  ...   \n",
       "194   195              Mozambique             164.30               155.42   \n",
       "195   196        Papua New Guinea             163.10               156.89   \n",
       "196   197         Solomon Islands             163.07               156.79   \n",
       "197   198                    Laos             162.78               153.10   \n",
       "198   199             Timor-Leste             160.13               152.71   \n",
       "\n",
       "     Male Height in Ft  Female Height in Ft  \n",
       "0                 6.03                 5.59  \n",
       "1                 6.01                 5.58  \n",
       "2                 6.00                 5.53  \n",
       "3                 5.99                 5.49  \n",
       "4                 5.97                 5.54  \n",
       "..                 ...                  ...  \n",
       "194               5.39                 5.10  \n",
       "195               5.35                 5.15  \n",
       "196               5.35                 5.14  \n",
       "197               5.34                 5.02  \n",
       "198               5.25                 5.01  \n",
       "\n",
       "[199 rows x 6 columns]"
      ]
     },
     "execution_count": 23,
     "metadata": {},
     "output_type": "execute_result"
    }
   ],
   "source": [
    "# Read from csv\n",
    "df = pd.read_csv(\"Height of Male and Female by Country 2022.csv\")\n",
    "df"
   ]
  },
  {
   "cell_type": "code",
   "execution_count": 24,
   "id": "e1b8912b",
   "metadata": {},
   "outputs": [
    {
     "data": {
      "text/html": [
       "<div>\n",
       "<style scoped>\n",
       "    .dataframe tbody tr th:only-of-type {\n",
       "        vertical-align: middle;\n",
       "    }\n",
       "\n",
       "    .dataframe tbody tr th {\n",
       "        vertical-align: top;\n",
       "    }\n",
       "\n",
       "    .dataframe thead th {\n",
       "        text-align: right;\n",
       "    }\n",
       "</style>\n",
       "<table border=\"1\" class=\"dataframe\">\n",
       "  <thead>\n",
       "    <tr style=\"text-align: right;\">\n",
       "      <th></th>\n",
       "      <th>Rank</th>\n",
       "      <th>Country Name</th>\n",
       "      <th>Male Height in Cm</th>\n",
       "      <th>Female Height in Cm</th>\n",
       "      <th>Male Height in Ft</th>\n",
       "      <th>Female Height in Ft</th>\n",
       "    </tr>\n",
       "  </thead>\n",
       "  <tbody>\n",
       "    <tr>\n",
       "      <th>0</th>\n",
       "      <td>1</td>\n",
       "      <td>Netherlands</td>\n",
       "      <td>183.78</td>\n",
       "      <td>170.36</td>\n",
       "      <td>6.03</td>\n",
       "      <td>5.59</td>\n",
       "    </tr>\n",
       "    <tr>\n",
       "      <th>1</th>\n",
       "      <td>2</td>\n",
       "      <td>Montenegro</td>\n",
       "      <td>183.30</td>\n",
       "      <td>169.96</td>\n",
       "      <td>6.01</td>\n",
       "      <td>5.58</td>\n",
       "    </tr>\n",
       "    <tr>\n",
       "      <th>2</th>\n",
       "      <td>3</td>\n",
       "      <td>Estonia</td>\n",
       "      <td>182.79</td>\n",
       "      <td>168.66</td>\n",
       "      <td>6.00</td>\n",
       "      <td>5.53</td>\n",
       "    </tr>\n",
       "    <tr>\n",
       "      <th>3</th>\n",
       "      <td>4</td>\n",
       "      <td>Bosnia and Herzegovina</td>\n",
       "      <td>182.47</td>\n",
       "      <td>167.47</td>\n",
       "      <td>5.99</td>\n",
       "      <td>5.49</td>\n",
       "    </tr>\n",
       "    <tr>\n",
       "      <th>4</th>\n",
       "      <td>5</td>\n",
       "      <td>Iceland</td>\n",
       "      <td>182.10</td>\n",
       "      <td>168.91</td>\n",
       "      <td>5.97</td>\n",
       "      <td>5.54</td>\n",
       "    </tr>\n",
       "  </tbody>\n",
       "</table>\n",
       "</div>"
      ],
      "text/plain": [
       "   Rank            Country Name  Male Height in Cm  Female Height in Cm  \\\n",
       "0     1             Netherlands             183.78               170.36   \n",
       "1     2              Montenegro             183.30               169.96   \n",
       "2     3                 Estonia             182.79               168.66   \n",
       "3     4  Bosnia and Herzegovina             182.47               167.47   \n",
       "4     5                 Iceland             182.10               168.91   \n",
       "\n",
       "   Male Height in Ft  Female Height in Ft  \n",
       "0               6.03                 5.59  \n",
       "1               6.01                 5.58  \n",
       "2               6.00                 5.53  \n",
       "3               5.99                 5.49  \n",
       "4               5.97                 5.54  "
      ]
     },
     "execution_count": 24,
     "metadata": {},
     "output_type": "execute_result"
    }
   ],
   "source": [
    "df.head()"
   ]
  },
  {
   "cell_type": "code",
   "execution_count": 25,
   "id": "07a3b720",
   "metadata": {},
   "outputs": [
    {
     "data": {
      "text/html": [
       "<div>\n",
       "<style scoped>\n",
       "    .dataframe tbody tr th:only-of-type {\n",
       "        vertical-align: middle;\n",
       "    }\n",
       "\n",
       "    .dataframe tbody tr th {\n",
       "        vertical-align: top;\n",
       "    }\n",
       "\n",
       "    .dataframe thead th {\n",
       "        text-align: right;\n",
       "    }\n",
       "</style>\n",
       "<table border=\"1\" class=\"dataframe\">\n",
       "  <thead>\n",
       "    <tr style=\"text-align: right;\">\n",
       "      <th></th>\n",
       "      <th>Rank</th>\n",
       "      <th>Country Name</th>\n",
       "      <th>Male Height in Cm</th>\n",
       "      <th>Female Height in Cm</th>\n",
       "      <th>Male Height in Ft</th>\n",
       "      <th>Female Height in Ft</th>\n",
       "    </tr>\n",
       "  </thead>\n",
       "  <tbody>\n",
       "    <tr>\n",
       "      <th>194</th>\n",
       "      <td>195</td>\n",
       "      <td>Mozambique</td>\n",
       "      <td>164.30</td>\n",
       "      <td>155.42</td>\n",
       "      <td>5.39</td>\n",
       "      <td>5.10</td>\n",
       "    </tr>\n",
       "    <tr>\n",
       "      <th>195</th>\n",
       "      <td>196</td>\n",
       "      <td>Papua New Guinea</td>\n",
       "      <td>163.10</td>\n",
       "      <td>156.89</td>\n",
       "      <td>5.35</td>\n",
       "      <td>5.15</td>\n",
       "    </tr>\n",
       "    <tr>\n",
       "      <th>196</th>\n",
       "      <td>197</td>\n",
       "      <td>Solomon Islands</td>\n",
       "      <td>163.07</td>\n",
       "      <td>156.79</td>\n",
       "      <td>5.35</td>\n",
       "      <td>5.14</td>\n",
       "    </tr>\n",
       "    <tr>\n",
       "      <th>197</th>\n",
       "      <td>198</td>\n",
       "      <td>Laos</td>\n",
       "      <td>162.78</td>\n",
       "      <td>153.10</td>\n",
       "      <td>5.34</td>\n",
       "      <td>5.02</td>\n",
       "    </tr>\n",
       "    <tr>\n",
       "      <th>198</th>\n",
       "      <td>199</td>\n",
       "      <td>Timor-Leste</td>\n",
       "      <td>160.13</td>\n",
       "      <td>152.71</td>\n",
       "      <td>5.25</td>\n",
       "      <td>5.01</td>\n",
       "    </tr>\n",
       "  </tbody>\n",
       "</table>\n",
       "</div>"
      ],
      "text/plain": [
       "     Rank      Country Name  Male Height in Cm  Female Height in Cm  \\\n",
       "194   195        Mozambique             164.30               155.42   \n",
       "195   196  Papua New Guinea             163.10               156.89   \n",
       "196   197   Solomon Islands             163.07               156.79   \n",
       "197   198              Laos             162.78               153.10   \n",
       "198   199       Timor-Leste             160.13               152.71   \n",
       "\n",
       "     Male Height in Ft  Female Height in Ft  \n",
       "194               5.39                 5.10  \n",
       "195               5.35                 5.15  \n",
       "196               5.35                 5.14  \n",
       "197               5.34                 5.02  \n",
       "198               5.25                 5.01  "
      ]
     },
     "execution_count": 25,
     "metadata": {},
     "output_type": "execute_result"
    }
   ],
   "source": [
    "df.tail()"
   ]
  },
  {
   "cell_type": "code",
   "execution_count": 26,
   "id": "b9a5b6cd",
   "metadata": {},
   "outputs": [
    {
     "data": {
      "text/plain": [
       "(199, 6)"
      ]
     },
     "execution_count": 26,
     "metadata": {},
     "output_type": "execute_result"
    }
   ],
   "source": [
    "df.shape"
   ]
  },
  {
   "cell_type": "code",
   "execution_count": 27,
   "id": "26b049a6",
   "metadata": {},
   "outputs": [
    {
     "data": {
      "text/plain": [
       "Index(['Rank', 'Country Name', 'Male Height in Cm', 'Female Height in Cm',\n",
       "       'Male Height in Ft', 'Female Height in Ft'],\n",
       "      dtype='object')"
      ]
     },
     "execution_count": 27,
     "metadata": {},
     "output_type": "execute_result"
    }
   ],
   "source": [
    "df.columns"
   ]
  },
  {
   "cell_type": "code",
   "execution_count": 28,
   "id": "a562adc7",
   "metadata": {},
   "outputs": [
    {
     "data": {
      "text/plain": [
       "array(['Netherlands', 'Montenegro', 'Estonia', 'Bosnia and Herzegovina',\n",
       "       'Iceland', 'Denmark', 'Czech Republic', 'Latvia', 'Slovakia',\n",
       "       'Slovenia', 'Ukraine', 'Croatia', 'Serbia', 'Lithuania', 'Poland',\n",
       "       'Finland', 'Norway', 'Sweden', 'Germany', 'Dominica', 'Bermuda',\n",
       "       'Puerto Rico', 'Greece', 'Belgium', 'Ireland', 'Lebanon',\n",
       "       'Andorra', 'Antigua and Barbuda', 'Australia', 'Canada',\n",
       "       'Switzerland', 'Grenada', 'Belarus', 'France', 'Austria',\n",
       "       'Luxembourg', 'Cook Islands', 'French Polynesia', 'United Kingdom',\n",
       "       'Romania', 'New Zealand', 'Saint Vincent and the Grenadines',\n",
       "       'Niue', 'American Samoa', 'Barbados', 'Jamaica', 'United States',\n",
       "       'Tunisia', 'Russia', 'Hungary', 'Saint Lucia', 'North Macedonia',\n",
       "       'Libya', 'Turkey', 'Morocco', 'Senegal', 'Spain', 'Tokelau',\n",
       "       'Trinidad and Tobago', 'Israel', 'Georgia', 'Seychelles', 'Brazil',\n",
       "       'China', 'Iran', 'Moldova', 'South Korea', 'Kazakhstan', 'Tonga',\n",
       "       'Palestine', 'Algeria', 'Mali', 'Kuwait', 'Jordan', 'Hong Kong',\n",
       "       'Argentina', 'North Korea', 'Dominican Republic', 'Egypt',\n",
       "       'Suriname', 'Italy', 'Samoa', 'Bahamas', 'Malta', 'Turkmenistan',\n",
       "       'Portugal', 'Uruguay', 'Bulgaria', 'United Arab Emirates',\n",
       "       'Albania', 'Costa Rica', 'Azerbaijan', 'Fiji', 'Greenland',\n",
       "       'Paraguay', 'Iraq', 'Saint Kitts and Nevis', 'Armenia', 'Cuba',\n",
       "       'Venezuela', 'Taiwan', 'Singapore', 'Qatar', 'Botswana',\n",
       "       'Mauritius', 'Chile', 'Bahrain', 'Cyprus', 'Haiti', 'Guyana',\n",
       "       'Cameroon', 'Sudan', 'Japan', 'Burkina Faso', 'Colombia', 'Chad',\n",
       "       'Oman', 'Kyrgyzstan', 'Syria', 'Thailand', 'Nigeria', 'Tuvalu',\n",
       "       'Republic of the Congo', 'Somalia', 'Uzbekistan', 'Djibouti',\n",
       "       'Guinea', 'Zimbabwe', 'Mongolia', 'El Salvador', 'Saudi Arabia',\n",
       "       'Palau', 'Eritrea', 'Belize', 'Gabon', 'Kenya',\n",
       "       'Sao Tome and Principe', 'Ghana', 'Mexico', 'Niger', 'Panama',\n",
       "       'Togo', 'Kiribati', 'Nicaragua', 'Namibia', 'South Africa',\n",
       "       'Honduras', 'Micronesia', 'Nauru', 'Eswatini', 'Malaysia',\n",
       "       'Central African Republic', 'Vietnam', 'Ethiopia', 'Uganda',\n",
       "       'DR Congo', 'Afghanistan', 'Angola', 'Benin', 'Tajikistan',\n",
       "       'Gambia', 'Vanuatu', 'Ivory Coast', 'Equatorial Guinea',\n",
       "       'Guinea-Bissau', 'Bolivia', 'Sri Lanka', 'Lesotho', 'Maldives',\n",
       "       'Comoros', 'Zambia', 'Burundi', 'Pakistan', 'Ecuador', 'Bhutan',\n",
       "       'Tanzania', 'Peru', 'Myanmar', 'India', 'Sierra Leone', 'Brunei',\n",
       "       'Indonesia', 'Rwanda', 'Malawi', 'Mauritania', 'Liberia',\n",
       "       'Cambodia', 'Marshall Islands', 'Philippines', 'Madagascar',\n",
       "       'Bangladesh', 'Yemen', 'Nepal', 'Guatemala', 'Mozambique',\n",
       "       'Papua New Guinea', 'Solomon Islands', 'Laos', 'Timor-Leste'],\n",
       "      dtype=object)"
      ]
     },
     "execution_count": 28,
     "metadata": {},
     "output_type": "execute_result"
    }
   ],
   "source": [
    "df['Country Name'].unique()"
   ]
  },
  {
   "cell_type": "code",
   "execution_count": 29,
   "id": "01e13f38",
   "metadata": {},
   "outputs": [
    {
     "data": {
      "text/plain": [
       "199"
      ]
     },
     "execution_count": 29,
     "metadata": {},
     "output_type": "execute_result"
    }
   ],
   "source": [
    "df['Country Name'].nunique()"
   ]
  },
  {
   "cell_type": "code",
   "execution_count": null,
   "id": "ca90953b",
   "metadata": {},
   "outputs": [],
   "source": [
    "wholesale_data=pd.read_csv"
   ]
  }
 ],
 "metadata": {
  "kernelspec": {
   "display_name": "Python 3 (ipykernel)",
   "language": "python",
   "name": "python3"
  },
  "language_info": {
   "codemirror_mode": {
    "name": "ipython",
    "version": 3
   },
   "file_extension": ".py",
   "mimetype": "text/x-python",
   "name": "python",
   "nbconvert_exporter": "python",
   "pygments_lexer": "ipython3",
   "version": "3.9.7"
  }
 },
 "nbformat": 4,
 "nbformat_minor": 5
}
