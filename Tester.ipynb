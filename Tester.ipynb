{
 "cells": [
  {
   "cell_type": "code",
   "execution_count": 1,
   "id": "26d49680",
   "metadata": {},
   "outputs": [],
   "source": [
    "import numpy as np"
   ]
  },
  {
   "cell_type": "code",
   "execution_count": 2,
   "id": "8a957237",
   "metadata": {},
   "outputs": [],
   "source": [
    "arr1= np.array([1,2,3,4,5])"
   ]
  },
  {
   "cell_type": "code",
   "execution_count": 3,
   "id": "fc9a3421",
   "metadata": {},
   "outputs": [],
   "source": [
    "arr2= np.array([1,2,3,4,5])"
   ]
  },
  {
   "cell_type": "code",
   "execution_count": 4,
   "id": "020c69c1",
   "metadata": {},
   "outputs": [],
   "source": [
    "arr3= arr1 + arr2"
   ]
  },
  {
   "cell_type": "code",
   "execution_count": 5,
   "id": "4fdf3105",
   "metadata": {},
   "outputs": [
    {
     "name": "stdout",
     "output_type": "stream",
     "text": [
      "[ 2  4  6  8 10]\n"
     ]
    }
   ],
   "source": [
    "print(arr3)"
   ]
  },
  {
   "cell_type": "code",
   "execution_count": 6,
   "id": "3955d100",
   "metadata": {},
   "outputs": [
    {
     "data": {
      "text/plain": [
       "array([ 1,  4,  9, 16, 25], dtype=int32)"
      ]
     },
     "execution_count": 6,
     "metadata": {},
     "output_type": "execute_result"
    }
   ],
   "source": [
    "np.power(arr1,2)"
   ]
  },
  {
   "cell_type": "code",
   "execution_count": 7,
   "id": "67c0cdf3",
   "metadata": {},
   "outputs": [],
   "source": [
    "x = np.array([0, 1, 2, 3, 4, 5, 6, 7, 8, 9])"
   ]
  },
  {
   "cell_type": "code",
   "execution_count": 8,
   "id": "6e09f531",
   "metadata": {},
   "outputs": [
    {
     "name": "stdout",
     "output_type": "stream",
     "text": [
      "[1 3 5]\n"
     ]
    }
   ],
   "source": [
    "print(x[1:7:2])"
   ]
  },
  {
   "cell_type": "code",
   "execution_count": 9,
   "id": "569ad790",
   "metadata": {},
   "outputs": [],
   "source": [
    "values = np.arange(100,200,10)"
   ]
  },
  {
   "cell_type": "code",
   "execution_count": 10,
   "id": "abf9ce8f",
   "metadata": {},
   "outputs": [],
   "source": [
    "values = values.reshape(5,2)"
   ]
  },
  {
   "cell_type": "code",
   "execution_count": 11,
   "id": "411fc059",
   "metadata": {},
   "outputs": [],
   "source": [
    "values = values.reshape(1,-1)"
   ]
  },
  {
   "cell_type": "code",
   "execution_count": 12,
   "id": "b85e7fcf",
   "metadata": {},
   "outputs": [
    {
     "name": "stdout",
     "output_type": "stream",
     "text": [
      "[[100 110 120 130 140 150 160 170 180 190]]\n"
     ]
    }
   ],
   "source": [
    "print(values)"
   ]
  },
  {
   "cell_type": "code",
   "execution_count": 13,
   "id": "9bee264e",
   "metadata": {},
   "outputs": [],
   "source": [
    "sisi_dadu = [1,2,3,4,5,6]"
   ]
  },
  {
   "cell_type": "code",
   "execution_count": 15,
   "id": "25c6fd1a",
   "metadata": {},
   "outputs": [],
   "source": [
    "def all_same(n):\n",
    "    count = 0\n",
    "    for i in range(n):\n",
    "        coin_pertama = np.random.choice(sisi_dadu)\n",
    "        coin_kedua = np.random.choice(sisi_dadu)\n",
    "        coin_ketiga = np.random.choice(sisi_dadu)\n",
    "        \n",
    "        # mengecek sesuai kondisi yang diinginkan yaitu HHH atau TTT maka:\n",
    "        if (coin_pertama + coin_kedua + coin_ketiga > 4):\n",
    "            count += 1\n",
    "            \n",
    "    return count / n"
   ]
  },
  {
   "cell_type": "code",
   "execution_count": 16,
   "id": "9e00b49d",
   "metadata": {},
   "outputs": [
    {
     "data": {
      "text/plain": [
       "0.9815"
      ]
     },
     "execution_count": 16,
     "metadata": {},
     "output_type": "execute_result"
    }
   ],
   "source": [
    "all_same(10000)"
   ]
  },
  {
   "cell_type": "code",
   "execution_count": null,
   "id": "1e6fba49",
   "metadata": {},
   "outputs": [],
   "source": []
  }
 ],
 "metadata": {
  "kernelspec": {
   "display_name": "Python 3 (ipykernel)",
   "language": "python",
   "name": "python3"
  },
  "language_info": {
   "codemirror_mode": {
    "name": "ipython",
    "version": 3
   },
   "file_extension": ".py",
   "mimetype": "text/x-python",
   "name": "python",
   "nbconvert_exporter": "python",
   "pygments_lexer": "ipython3",
   "version": "3.9.7"
  }
 },
 "nbformat": 4,
 "nbformat_minor": 5
}
